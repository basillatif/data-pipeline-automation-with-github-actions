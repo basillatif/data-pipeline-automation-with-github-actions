{
  "cells": [
    {
      "cell_type": "raw",
      "id": "d4369887",
      "metadata": {},
      "source": [
        "---\n",
        "title: EIA API - Data Backfill (Python Version)\n",
        "format:\n",
        "  html:\n",
        "    code-fold: true\n",
        "---"
      ]
    },
    {
      "cell_type": "markdown",
      "id": "ba1d9456",
      "metadata": {},
      "source": [
        "The goal of this doc is to execute an initial data pull of the hourly demand for California balancing authority subregion (CISO). This includes the following four independent system operators:\n",
        "\n",
        "- Pacific Gas and Electric (PGAE)\n",
        "- Southern California Edison (SCE)\n",
        "- San Diego Gas and Electric (SDGE)\n",
        "- Valley Electric Association (VEA)\n",
        "\n",
        "The data backfill process includes the following steps:\n",
        "\n",
        "- Setting parameters and pulling the data\n",
        "- Data quality checks\n",
        "- Saving the data and creating a log file\n",
        "\n",
        "\n",
        "## Load Libraries\n"
      ]
    },
    {
      "cell_type": "code",
      "execution_count": 12,
      "id": "aabc5fc3",
      "metadata": {},
      "outputs": [],
      "source": [
        "import eia_api as api\n",
        "import eia_data \n",
        "import pandas as pd\n",
        "import numpy as np\n",
        "import requests\n",
        "import json\n",
        "import os\n",
        "import datetime\n",
        "import plotly.express as px"
      ]
    },
    {
      "cell_type": "code",
      "execution_count": 13,
      "id": "289a7bea",
      "metadata": {},
      "outputs": [],
      "source": [
        "raw_json = open(\"../metadata/series.json\")\n",
        "meta_json = json.load(raw_json)\n",
        "series = pd.DataFrame(meta_json[\"series\"])\n",
        "api_path = meta_json[\"api_path\"]"
      ]
    },
    {
      "cell_type": "code",
      "execution_count": 14,
      "id": "1f0b084a",
      "metadata": {},
      "outputs": [],
      "source": [
        "facets_template = {\n",
        "  \"parent\" : None,\n",
        "  \"subba\" : None\n",
        "}\n",
        "\n",
        "start = datetime.datetime(2018, 7, 1, 8)\n",
        "end = datetime.datetime(2024, 2, 18, 1)\n",
        "\n",
        "offset = 2250\n",
        "\n",
        "eia_api_key = os.getenv('EIA_API_KEY')\n",
        "\n",
        "meta_path = \"../metadata/ciso_log_py.csv\"\n",
        "data_path = \"../csv/ciso_grid_py.csv\""
      ]
    },
    {
      "cell_type": "code",
      "execution_count": 15,
      "id": "87bad132",
      "metadata": {},
      "outputs": [
        {
          "name": "stdout",
          "output_type": "stream",
          "text": [
            "Error: The api_key argument is not a valid string\n"
          ]
        },
        {
          "ename": "AttributeError",
          "evalue": "'NoneType' object has no attribute 'meta'",
          "output_type": "error",
          "traceback": [
            "\u001b[0;31m---------------------------------------------------------------------------\u001b[0m",
            "\u001b[0;31mAttributeError\u001b[0m                            Traceback (most recent call last)",
            "Input \u001b[0;32mIn [15]\u001b[0m, in \u001b[0;36m<cell line: 2>\u001b[0;34m()\u001b[0m\n\u001b[1;32m      1\u001b[0m metadata \u001b[38;5;241m=\u001b[39m api\u001b[38;5;241m.\u001b[39meia_metadata(api_key \u001b[38;5;241m=\u001b[39m eia_api_key, api_path \u001b[38;5;241m=\u001b[39m api_path)\n\u001b[0;32m----> 2\u001b[0m \u001b[38;5;28mprint\u001b[39m(\u001b[43mmetadata\u001b[49m\u001b[38;5;241;43m.\u001b[39;49m\u001b[43mmeta\u001b[49m\u001b[38;5;241m.\u001b[39mkeys())\n\u001b[1;32m      3\u001b[0m \u001b[38;5;28mprint\u001b[39m(metadata\u001b[38;5;241m.\u001b[39mmeta[\u001b[38;5;124m\"\u001b[39m\u001b[38;5;124mstartPeriod\u001b[39m\u001b[38;5;124m\"\u001b[39m])\n\u001b[1;32m      4\u001b[0m \u001b[38;5;28mprint\u001b[39m(metadata\u001b[38;5;241m.\u001b[39mmeta[\u001b[38;5;124m\"\u001b[39m\u001b[38;5;124mendPeriod\u001b[39m\u001b[38;5;124m\"\u001b[39m])\n",
            "\u001b[0;31mAttributeError\u001b[0m: 'NoneType' object has no attribute 'meta'"
          ]
        }
      ],
      "source": [
        "metadata = api.eia_metadata(api_key = eia_api_key, api_path = api_path)\n",
        "print(metadata.meta.keys())\n",
        "print(metadata.meta[\"startPeriod\"])\n",
        "print(metadata.meta[\"endPeriod\"])"
      ]
    },
    {
      "cell_type": "code",
      "execution_count": null,
      "id": "dccd8bad",
      "metadata": {},
      "outputs": [],
      "source": [
        "for i in series.index:\n",
        "  facets = facets_template\n",
        "  facets[\"parent\"] = series.at[i, \"parent_id\"]\n",
        "  facets[\"subba\"] = series.at[i, \"subba_id\"]\n",
        "  print(facets)\n",
        "  temp = api.eia_backfill(api_key = eia_api_key, \n",
        "        api_path = api_path+ \"data\", \n",
        "        facets = facets, \n",
        "        start = start,\n",
        "        end = end,\n",
        "        offset = offset) \n",
        "  ts_obj = pd.DataFrame(np.arange(start = start, stop = end + datetime.timedelta(hours = 1), step = datetime.timedelta(hours = 1)).astype(datetime.datetime), columns=[\"index\"])\n",
        "  ts_obj  = ts_obj.merge(temp.data, left_on = \"index\", right_on = \"period\", how=\"left\")\n",
        "  ts_obj.drop(\"period\", axis = 1, inplace= True)\n",
        "  ts_obj = ts_obj.rename(columns= {\"index\": \"period\"})\n",
        "\n",
        "  meta_temp = eia_data.create_metadata(data = ts_obj, start = start, end = end, type = \"backfill\")\n",
        "  meta_temp[\"index\"] = 1\n",
        "  meta_df = pd.DataFrame([meta_temp])\n",
        "\n",
        "  if i == series.index.start:\n",
        "    data = ts_obj\n",
        "    meta = meta_df\n",
        "  else:\n",
        "    data = data._append(ts_obj)\n",
        "    meta = meta._append(meta_df)\n"
      ]
    },
    {
      "cell_type": "code",
      "execution_count": null,
      "id": "bc0f8828",
      "metadata": {},
      "outputs": [],
      "source": [
        "print(meta)\n",
        "# The initial pull has some missing values\n",
        "\n",
        "data.head()"
      ]
    },
    {
      "cell_type": "code",
      "execution_count": null,
      "id": "572918f7",
      "metadata": {},
      "outputs": [],
      "source": [
        "# Save the data\n",
        "d = eia_data.append_data(data_path = data_path, new_data = data, init = True, save = True)\n",
        "# Save the metadata\n",
        "meta[\"success\"] = True\n",
        "meta[\"update\"] = True\n",
        "m = eia_data.append_metadata(meta_path = \"../metadata/ciso_log_py.csv\", meta = meta, save = True, init = True)\n",
        "print(m)"
      ]
    },
    {
      "cell_type": "markdown",
      "id": "5122b461",
      "metadata": {},
      "source": [
        "### Plot the Series\n",
        "\n",
        "We will use Plotly to visualize the series:\n"
      ]
    },
    {
      "cell_type": "code",
      "execution_count": null,
      "id": "493d2b41",
      "metadata": {},
      "outputs": [],
      "source": [
        "d = data.sort_values(by = [\"subba\", \"period\"])\n",
        "\n",
        "p = px.line(d, x=\"period\", y=\"value\", color=\"subba\")\n",
        "\n",
        "p.show()"
      ]
    }
  ],
  "metadata": {
    "kernelspec": {
      "display_name": "Python 3",
      "language": "python",
      "name": "python3"
    },
    "language_info": {
      "codemirror_mode": {
        "name": "ipython",
        "version": 3
      },
      "file_extension": ".py",
      "mimetype": "text/x-python",
      "name": "python",
      "nbconvert_exporter": "python",
      "pygments_lexer": "ipython3",
      "version": "3.10.0"
    }
  },
  "nbformat": 4,
  "nbformat_minor": 5
}
